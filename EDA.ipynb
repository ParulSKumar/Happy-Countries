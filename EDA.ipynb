{
  "nbformat": 4,
  "nbformat_minor": 0,
  "metadata": {
    "colab": {
      "name": "EDA.ipynb",
      "provenance": [],
      "collapsed_sections": [],
      "include_colab_link": true
    },
    "kernelspec": {
      "name": "python3",
      "display_name": "Python 3"
    }
  },
  "cells": [
    {
      "cell_type": "markdown",
      "metadata": {
        "id": "view-in-github",
        "colab_type": "text"
      },
      "source": [
        "<a href=\"https://colab.research.google.com/github/ananyaangadi/Pursuit-Of-Happiness/blob/master/EDA.ipynb\" target=\"_parent\"><img src=\"https://colab.research.google.com/assets/colab-badge.svg\" alt=\"Open In Colab\"/></a>"
      ]
    },
    {
      "cell_type": "code",
      "metadata": {
        "id": "3Al76MoPGAji",
        "outputId": "f32a2bfe-5f48-43f5-a2d9-08530e2ea260",
        "colab": {
          "base_uri": "https://localhost:8080/",
          "height": 639
        }
      },
      "source": [
        "# Reading in the newly integrated dataset\n",
        "\n",
        "import pandas as pd\n",
        "url='https://raw.githubusercontent.com/ParulSKumar/Happy-Countries/master/data.csv'\n",
        "df = pd.read_csv(url)\n",
        "df.head(20)"
      ],
      "execution_count": null,
      "outputs": [
        {
          "output_type": "execute_result",
          "data": {
            "text/html": [
              "<div>\n",
              "<style scoped>\n",
              "    .dataframe tbody tr th:only-of-type {\n",
              "        vertical-align: middle;\n",
              "    }\n",
              "\n",
              "    .dataframe tbody tr th {\n",
              "        vertical-align: top;\n",
              "    }\n",
              "\n",
              "    .dataframe thead th {\n",
              "        text-align: right;\n",
              "    }\n",
              "</style>\n",
              "<table border=\"1\" class=\"dataframe\">\n",
              "  <thead>\n",
              "    <tr style=\"text-align: right;\">\n",
              "      <th></th>\n",
              "      <th>Unnamed: 0</th>\n",
              "      <th>Health (Life Expectancy)</th>\n",
              "      <th>year</th>\n",
              "      <th>Happiness Rank</th>\n",
              "      <th>Generosity</th>\n",
              "      <th>Freedom</th>\n",
              "      <th>Happiness Score</th>\n",
              "      <th>Trust (Government Corruption)</th>\n",
              "      <th>Economy (GDP per Capita)</th>\n",
              "      <th>Country</th>\n",
              "    </tr>\n",
              "  </thead>\n",
              "  <tbody>\n",
              "    <tr>\n",
              "      <th>0</th>\n",
              "      <td>153</td>\n",
              "      <td>0.173440</td>\n",
              "      <td>2016</td>\n",
              "      <td>154</td>\n",
              "      <td>0.312680</td>\n",
              "      <td>0.164300</td>\n",
              "      <td>3.360</td>\n",
              "      <td>0.071120</td>\n",
              "      <td>0.382270</td>\n",
              "      <td>Afghanistan</td>\n",
              "    </tr>\n",
              "    <tr>\n",
              "      <th>1</th>\n",
              "      <td>152</td>\n",
              "      <td>0.303350</td>\n",
              "      <td>2015</td>\n",
              "      <td>153</td>\n",
              "      <td>0.365100</td>\n",
              "      <td>0.234140</td>\n",
              "      <td>3.575</td>\n",
              "      <td>0.097190</td>\n",
              "      <td>0.319820</td>\n",
              "      <td>Afghanistan</td>\n",
              "    </tr>\n",
              "    <tr>\n",
              "      <th>2</th>\n",
              "      <td>144</td>\n",
              "      <td>0.255000</td>\n",
              "      <td>2018</td>\n",
              "      <td>145</td>\n",
              "      <td>0.191000</td>\n",
              "      <td>0.085000</td>\n",
              "      <td>3.632</td>\n",
              "      <td>0.036000</td>\n",
              "      <td>0.332000</td>\n",
              "      <td>Afghanistan</td>\n",
              "    </tr>\n",
              "    <tr>\n",
              "      <th>3</th>\n",
              "      <td>153</td>\n",
              "      <td>0.361000</td>\n",
              "      <td>2019</td>\n",
              "      <td>154</td>\n",
              "      <td>0.158000</td>\n",
              "      <td>0.000000</td>\n",
              "      <td>3.203</td>\n",
              "      <td>0.025000</td>\n",
              "      <td>0.350000</td>\n",
              "      <td>Afghanistan</td>\n",
              "    </tr>\n",
              "    <tr>\n",
              "      <th>4</th>\n",
              "      <td>140</td>\n",
              "      <td>0.180747</td>\n",
              "      <td>2017</td>\n",
              "      <td>141</td>\n",
              "      <td>0.311871</td>\n",
              "      <td>0.106180</td>\n",
              "      <td>3.794</td>\n",
              "      <td>0.061158</td>\n",
              "      <td>0.401477</td>\n",
              "      <td>Afghanistan</td>\n",
              "    </tr>\n",
              "    <tr>\n",
              "      <th>5</th>\n",
              "      <td>108</td>\n",
              "      <td>0.731160</td>\n",
              "      <td>2017</td>\n",
              "      <td>109</td>\n",
              "      <td>0.201313</td>\n",
              "      <td>0.381499</td>\n",
              "      <td>4.644</td>\n",
              "      <td>0.039864</td>\n",
              "      <td>0.996193</td>\n",
              "      <td>Albania</td>\n",
              "    </tr>\n",
              "    <tr>\n",
              "      <th>6</th>\n",
              "      <td>108</td>\n",
              "      <td>0.730070</td>\n",
              "      <td>2016</td>\n",
              "      <td>109</td>\n",
              "      <td>0.168400</td>\n",
              "      <td>0.318660</td>\n",
              "      <td>4.655</td>\n",
              "      <td>0.053010</td>\n",
              "      <td>0.955300</td>\n",
              "      <td>Albania</td>\n",
              "    </tr>\n",
              "    <tr>\n",
              "      <th>7</th>\n",
              "      <td>111</td>\n",
              "      <td>0.790000</td>\n",
              "      <td>2018</td>\n",
              "      <td>112</td>\n",
              "      <td>0.149000</td>\n",
              "      <td>0.419000</td>\n",
              "      <td>4.586</td>\n",
              "      <td>0.032000</td>\n",
              "      <td>0.916000</td>\n",
              "      <td>Albania</td>\n",
              "    </tr>\n",
              "    <tr>\n",
              "      <th>8</th>\n",
              "      <td>106</td>\n",
              "      <td>0.874000</td>\n",
              "      <td>2019</td>\n",
              "      <td>107</td>\n",
              "      <td>0.178000</td>\n",
              "      <td>0.383000</td>\n",
              "      <td>4.719</td>\n",
              "      <td>0.027000</td>\n",
              "      <td>0.947000</td>\n",
              "      <td>Albania</td>\n",
              "    </tr>\n",
              "    <tr>\n",
              "      <th>9</th>\n",
              "      <td>94</td>\n",
              "      <td>0.813250</td>\n",
              "      <td>2015</td>\n",
              "      <td>95</td>\n",
              "      <td>0.142720</td>\n",
              "      <td>0.357330</td>\n",
              "      <td>4.959</td>\n",
              "      <td>0.064130</td>\n",
              "      <td>0.878670</td>\n",
              "      <td>Albania</td>\n",
              "    </tr>\n",
              "    <tr>\n",
              "      <th>10</th>\n",
              "      <td>37</td>\n",
              "      <td>0.618040</td>\n",
              "      <td>2016</td>\n",
              "      <td>38</td>\n",
              "      <td>0.070440</td>\n",
              "      <td>0.210060</td>\n",
              "      <td>6.355</td>\n",
              "      <td>0.161570</td>\n",
              "      <td>1.052660</td>\n",
              "      <td>Algeria</td>\n",
              "    </tr>\n",
              "    <tr>\n",
              "      <th>11</th>\n",
              "      <td>67</td>\n",
              "      <td>0.617660</td>\n",
              "      <td>2015</td>\n",
              "      <td>68</td>\n",
              "      <td>0.078220</td>\n",
              "      <td>0.285790</td>\n",
              "      <td>5.605</td>\n",
              "      <td>0.173830</td>\n",
              "      <td>0.939290</td>\n",
              "      <td>Algeria</td>\n",
              "    </tr>\n",
              "    <tr>\n",
              "      <th>12</th>\n",
              "      <td>87</td>\n",
              "      <td>0.785000</td>\n",
              "      <td>2019</td>\n",
              "      <td>88</td>\n",
              "      <td>0.073000</td>\n",
              "      <td>0.086000</td>\n",
              "      <td>5.211</td>\n",
              "      <td>0.114000</td>\n",
              "      <td>1.002000</td>\n",
              "      <td>Algeria</td>\n",
              "    </tr>\n",
              "    <tr>\n",
              "      <th>13</th>\n",
              "      <td>52</td>\n",
              "      <td>0.617585</td>\n",
              "      <td>2017</td>\n",
              "      <td>53</td>\n",
              "      <td>0.069437</td>\n",
              "      <td>0.233336</td>\n",
              "      <td>5.872</td>\n",
              "      <td>0.146096</td>\n",
              "      <td>1.091864</td>\n",
              "      <td>Algeria</td>\n",
              "    </tr>\n",
              "    <tr>\n",
              "      <th>14</th>\n",
              "      <td>83</td>\n",
              "      <td>0.687000</td>\n",
              "      <td>2018</td>\n",
              "      <td>84</td>\n",
              "      <td>0.055000</td>\n",
              "      <td>0.077000</td>\n",
              "      <td>5.295</td>\n",
              "      <td>0.135000</td>\n",
              "      <td>0.979000</td>\n",
              "      <td>Algeria</td>\n",
              "    </tr>\n",
              "    <tr>\n",
              "      <th>15</th>\n",
              "      <td>136</td>\n",
              "      <td>0.166830</td>\n",
              "      <td>2015</td>\n",
              "      <td>137</td>\n",
              "      <td>0.123440</td>\n",
              "      <td>0.103840</td>\n",
              "      <td>4.033</td>\n",
              "      <td>0.071220</td>\n",
              "      <td>0.757780</td>\n",
              "      <td>Angola</td>\n",
              "    </tr>\n",
              "    <tr>\n",
              "      <th>16</th>\n",
              "      <td>139</td>\n",
              "      <td>0.049869</td>\n",
              "      <td>2017</td>\n",
              "      <td>140</td>\n",
              "      <td>0.097926</td>\n",
              "      <td>0.000000</td>\n",
              "      <td>3.795</td>\n",
              "      <td>0.069720</td>\n",
              "      <td>0.858428</td>\n",
              "      <td>Angola</td>\n",
              "    </tr>\n",
              "    <tr>\n",
              "      <th>17</th>\n",
              "      <td>140</td>\n",
              "      <td>0.049910</td>\n",
              "      <td>2016</td>\n",
              "      <td>141</td>\n",
              "      <td>0.120710</td>\n",
              "      <td>0.005890</td>\n",
              "      <td>3.866</td>\n",
              "      <td>0.084340</td>\n",
              "      <td>0.847310</td>\n",
              "      <td>Angola</td>\n",
              "    </tr>\n",
              "    <tr>\n",
              "      <th>18</th>\n",
              "      <td>141</td>\n",
              "      <td>0.269000</td>\n",
              "      <td>2018</td>\n",
              "      <td>142</td>\n",
              "      <td>0.079000</td>\n",
              "      <td>0.000000</td>\n",
              "      <td>3.795</td>\n",
              "      <td>0.061000</td>\n",
              "      <td>0.730000</td>\n",
              "      <td>Angola</td>\n",
              "    </tr>\n",
              "    <tr>\n",
              "      <th>19</th>\n",
              "      <td>28</td>\n",
              "      <td>0.744000</td>\n",
              "      <td>2018</td>\n",
              "      <td>29</td>\n",
              "      <td>0.062000</td>\n",
              "      <td>0.570000</td>\n",
              "      <td>6.388</td>\n",
              "      <td>0.054000</td>\n",
              "      <td>1.073000</td>\n",
              "      <td>Argentina</td>\n",
              "    </tr>\n",
              "  </tbody>\n",
              "</table>\n",
              "</div>"
            ],
            "text/plain": [
              "    Unnamed: 0  Health (Life Expectancy)  ...  Economy (GDP per Capita)      Country\n",
              "0          153                  0.173440  ...                  0.382270  Afghanistan\n",
              "1          152                  0.303350  ...                  0.319820  Afghanistan\n",
              "2          144                  0.255000  ...                  0.332000  Afghanistan\n",
              "3          153                  0.361000  ...                  0.350000  Afghanistan\n",
              "4          140                  0.180747  ...                  0.401477  Afghanistan\n",
              "5          108                  0.731160  ...                  0.996193      Albania\n",
              "6          108                  0.730070  ...                  0.955300      Albania\n",
              "7          111                  0.790000  ...                  0.916000      Albania\n",
              "8          106                  0.874000  ...                  0.947000      Albania\n",
              "9           94                  0.813250  ...                  0.878670      Albania\n",
              "10          37                  0.618040  ...                  1.052660      Algeria\n",
              "11          67                  0.617660  ...                  0.939290      Algeria\n",
              "12          87                  0.785000  ...                  1.002000      Algeria\n",
              "13          52                  0.617585  ...                  1.091864      Algeria\n",
              "14          83                  0.687000  ...                  0.979000      Algeria\n",
              "15         136                  0.166830  ...                  0.757780       Angola\n",
              "16         139                  0.049869  ...                  0.858428       Angola\n",
              "17         140                  0.049910  ...                  0.847310       Angola\n",
              "18         141                  0.269000  ...                  0.730000       Angola\n",
              "19          28                  0.744000  ...                  1.073000    Argentina\n",
              "\n",
              "[20 rows x 10 columns]"
            ]
          },
          "metadata": {
            "tags": []
          },
          "execution_count": 3
        }
      ]
    },
    {
      "cell_type": "code",
      "metadata": {
        "id": "QBZNBYELGM3L",
        "outputId": "6505fa3b-82a2-4e73-eef0-863ff995b08f",
        "colab": {
          "base_uri": "https://localhost:8080/",
          "height": 195
        }
      },
      "source": [
        "# Get rid of the unnamed redundant column ( which was the key in previous dataframes )\n",
        "\n",
        "df = df.iloc[:,1:]\n",
        "df.head()"
      ],
      "execution_count": null,
      "outputs": [
        {
          "output_type": "execute_result",
          "data": {
            "text/html": [
              "<div>\n",
              "<style scoped>\n",
              "    .dataframe tbody tr th:only-of-type {\n",
              "        vertical-align: middle;\n",
              "    }\n",
              "\n",
              "    .dataframe tbody tr th {\n",
              "        vertical-align: top;\n",
              "    }\n",
              "\n",
              "    .dataframe thead th {\n",
              "        text-align: right;\n",
              "    }\n",
              "</style>\n",
              "<table border=\"1\" class=\"dataframe\">\n",
              "  <thead>\n",
              "    <tr style=\"text-align: right;\">\n",
              "      <th></th>\n",
              "      <th>Health (Life Expectancy)</th>\n",
              "      <th>year</th>\n",
              "      <th>Happiness Rank</th>\n",
              "      <th>Generosity</th>\n",
              "      <th>Freedom</th>\n",
              "      <th>Happiness Score</th>\n",
              "      <th>Trust (Government Corruption)</th>\n",
              "      <th>Economy (GDP per Capita)</th>\n",
              "      <th>Country</th>\n",
              "    </tr>\n",
              "  </thead>\n",
              "  <tbody>\n",
              "    <tr>\n",
              "      <th>0</th>\n",
              "      <td>0.173440</td>\n",
              "      <td>2016</td>\n",
              "      <td>154</td>\n",
              "      <td>0.312680</td>\n",
              "      <td>0.16430</td>\n",
              "      <td>3.360</td>\n",
              "      <td>0.071120</td>\n",
              "      <td>0.382270</td>\n",
              "      <td>Afghanistan</td>\n",
              "    </tr>\n",
              "    <tr>\n",
              "      <th>1</th>\n",
              "      <td>0.303350</td>\n",
              "      <td>2015</td>\n",
              "      <td>153</td>\n",
              "      <td>0.365100</td>\n",
              "      <td>0.23414</td>\n",
              "      <td>3.575</td>\n",
              "      <td>0.097190</td>\n",
              "      <td>0.319820</td>\n",
              "      <td>Afghanistan</td>\n",
              "    </tr>\n",
              "    <tr>\n",
              "      <th>2</th>\n",
              "      <td>0.255000</td>\n",
              "      <td>2018</td>\n",
              "      <td>145</td>\n",
              "      <td>0.191000</td>\n",
              "      <td>0.08500</td>\n",
              "      <td>3.632</td>\n",
              "      <td>0.036000</td>\n",
              "      <td>0.332000</td>\n",
              "      <td>Afghanistan</td>\n",
              "    </tr>\n",
              "    <tr>\n",
              "      <th>3</th>\n",
              "      <td>0.361000</td>\n",
              "      <td>2019</td>\n",
              "      <td>154</td>\n",
              "      <td>0.158000</td>\n",
              "      <td>0.00000</td>\n",
              "      <td>3.203</td>\n",
              "      <td>0.025000</td>\n",
              "      <td>0.350000</td>\n",
              "      <td>Afghanistan</td>\n",
              "    </tr>\n",
              "    <tr>\n",
              "      <th>4</th>\n",
              "      <td>0.180747</td>\n",
              "      <td>2017</td>\n",
              "      <td>141</td>\n",
              "      <td>0.311871</td>\n",
              "      <td>0.10618</td>\n",
              "      <td>3.794</td>\n",
              "      <td>0.061158</td>\n",
              "      <td>0.401477</td>\n",
              "      <td>Afghanistan</td>\n",
              "    </tr>\n",
              "  </tbody>\n",
              "</table>\n",
              "</div>"
            ],
            "text/plain": [
              "   Health (Life Expectancy)  year  ...  Economy (GDP per Capita)      Country\n",
              "0                  0.173440  2016  ...                  0.382270  Afghanistan\n",
              "1                  0.303350  2015  ...                  0.319820  Afghanistan\n",
              "2                  0.255000  2018  ...                  0.332000  Afghanistan\n",
              "3                  0.361000  2019  ...                  0.350000  Afghanistan\n",
              "4                  0.180747  2017  ...                  0.401477  Afghanistan\n",
              "\n",
              "[5 rows x 9 columns]"
            ]
          },
          "metadata": {
            "tags": []
          },
          "execution_count": 4
        }
      ]
    },
    {
      "cell_type": "code",
      "metadata": {
        "id": "p-Eyo9JHGWmP",
        "outputId": "9d01fc27-9e37-43e6-ffbd-02547eb3c858",
        "colab": {
          "base_uri": "https://localhost:8080/",
          "height": 302
        }
      },
      "source": [
        "# Number of rows and columns\n",
        "\n",
        "print(df.info())\n",
        "# 782 rows, 9 attributes"
      ],
      "execution_count": null,
      "outputs": [
        {
          "output_type": "stream",
          "text": [
            "<class 'pandas.core.frame.DataFrame'>\n",
            "RangeIndex: 782 entries, 0 to 781\n",
            "Data columns (total 9 columns):\n",
            " #   Column                         Non-Null Count  Dtype  \n",
            "---  ------                         --------------  -----  \n",
            " 0   Health (Life Expectancy)       782 non-null    float64\n",
            " 1   year                           782 non-null    int64  \n",
            " 2   Happiness Rank                 782 non-null    int64  \n",
            " 3   Generosity                     782 non-null    float64\n",
            " 4   Freedom                        782 non-null    float64\n",
            " 5   Happiness Score                782 non-null    float64\n",
            " 6   Trust (Government Corruption)  781 non-null    float64\n",
            " 7   Economy (GDP per Capita)       782 non-null    float64\n",
            " 8   Country                        782 non-null    object \n",
            "dtypes: float64(6), int64(2), object(1)\n",
            "memory usage: 55.1+ KB\n",
            "None\n"
          ],
          "name": "stdout"
        }
      ]
    },
    {
      "cell_type": "code",
      "metadata": {
        "id": "C69IBnbJGYxT",
        "outputId": "17c9086d-544c-4cfa-be06-19276e120dc2",
        "colab": {
          "base_uri": "https://localhost:8080/",
          "height": 284
        }
      },
      "source": [
        "# simple measures of central tendency and spread\n",
        "\n",
        "df.describe()"
      ],
      "execution_count": null,
      "outputs": [
        {
          "output_type": "execute_result",
          "data": {
            "text/html": [
              "<div>\n",
              "<style scoped>\n",
              "    .dataframe tbody tr th:only-of-type {\n",
              "        vertical-align: middle;\n",
              "    }\n",
              "\n",
              "    .dataframe tbody tr th {\n",
              "        vertical-align: top;\n",
              "    }\n",
              "\n",
              "    .dataframe thead th {\n",
              "        text-align: right;\n",
              "    }\n",
              "</style>\n",
              "<table border=\"1\" class=\"dataframe\">\n",
              "  <thead>\n",
              "    <tr style=\"text-align: right;\">\n",
              "      <th></th>\n",
              "      <th>Health (Life Expectancy)</th>\n",
              "      <th>year</th>\n",
              "      <th>Happiness Rank</th>\n",
              "      <th>Generosity</th>\n",
              "      <th>Freedom</th>\n",
              "      <th>Happiness Score</th>\n",
              "      <th>Trust (Government Corruption)</th>\n",
              "      <th>Economy (GDP per Capita)</th>\n",
              "    </tr>\n",
              "  </thead>\n",
              "  <tbody>\n",
              "    <tr>\n",
              "      <th>count</th>\n",
              "      <td>782.000000</td>\n",
              "      <td>782.000000</td>\n",
              "      <td>782.000000</td>\n",
              "      <td>782.000000</td>\n",
              "      <td>782.000000</td>\n",
              "      <td>782.000000</td>\n",
              "      <td>781.000000</td>\n",
              "      <td>782.000000</td>\n",
              "    </tr>\n",
              "    <tr>\n",
              "      <th>mean</th>\n",
              "      <td>0.612416</td>\n",
              "      <td>2016.993606</td>\n",
              "      <td>78.698210</td>\n",
              "      <td>0.218576</td>\n",
              "      <td>0.411091</td>\n",
              "      <td>5.379018</td>\n",
              "      <td>0.125436</td>\n",
              "      <td>0.916047</td>\n",
              "    </tr>\n",
              "    <tr>\n",
              "      <th>std</th>\n",
              "      <td>0.248309</td>\n",
              "      <td>1.417364</td>\n",
              "      <td>45.182384</td>\n",
              "      <td>0.122321</td>\n",
              "      <td>0.152880</td>\n",
              "      <td>1.127456</td>\n",
              "      <td>0.105816</td>\n",
              "      <td>0.407340</td>\n",
              "    </tr>\n",
              "    <tr>\n",
              "      <th>min</th>\n",
              "      <td>0.000000</td>\n",
              "      <td>2015.000000</td>\n",
              "      <td>1.000000</td>\n",
              "      <td>0.000000</td>\n",
              "      <td>0.000000</td>\n",
              "      <td>2.693000</td>\n",
              "      <td>0.000000</td>\n",
              "      <td>0.000000</td>\n",
              "    </tr>\n",
              "    <tr>\n",
              "      <th>25%</th>\n",
              "      <td>0.440183</td>\n",
              "      <td>2016.000000</td>\n",
              "      <td>40.000000</td>\n",
              "      <td>0.130000</td>\n",
              "      <td>0.309768</td>\n",
              "      <td>4.509750</td>\n",
              "      <td>0.054000</td>\n",
              "      <td>0.606500</td>\n",
              "    </tr>\n",
              "    <tr>\n",
              "      <th>50%</th>\n",
              "      <td>0.647310</td>\n",
              "      <td>2017.000000</td>\n",
              "      <td>79.000000</td>\n",
              "      <td>0.201982</td>\n",
              "      <td>0.431000</td>\n",
              "      <td>5.322000</td>\n",
              "      <td>0.091000</td>\n",
              "      <td>0.982205</td>\n",
              "    </tr>\n",
              "    <tr>\n",
              "      <th>75%</th>\n",
              "      <td>0.808000</td>\n",
              "      <td>2018.000000</td>\n",
              "      <td>118.000000</td>\n",
              "      <td>0.278832</td>\n",
              "      <td>0.531000</td>\n",
              "      <td>6.189500</td>\n",
              "      <td>0.156030</td>\n",
              "      <td>1.236187</td>\n",
              "    </tr>\n",
              "    <tr>\n",
              "      <th>max</th>\n",
              "      <td>1.141000</td>\n",
              "      <td>2019.000000</td>\n",
              "      <td>158.000000</td>\n",
              "      <td>0.838075</td>\n",
              "      <td>0.724000</td>\n",
              "      <td>7.769000</td>\n",
              "      <td>0.551910</td>\n",
              "      <td>2.096000</td>\n",
              "    </tr>\n",
              "  </tbody>\n",
              "</table>\n",
              "</div>"
            ],
            "text/plain": [
              "       Health (Life Expectancy)  ...  Economy (GDP per Capita)\n",
              "count                782.000000  ...                782.000000\n",
              "mean                   0.612416  ...                  0.916047\n",
              "std                    0.248309  ...                  0.407340\n",
              "min                    0.000000  ...                  0.000000\n",
              "25%                    0.440183  ...                  0.606500\n",
              "50%                    0.647310  ...                  0.982205\n",
              "75%                    0.808000  ...                  1.236187\n",
              "max                    1.141000  ...                  2.096000\n",
              "\n",
              "[8 rows x 8 columns]"
            ]
          },
          "metadata": {
            "tags": []
          },
          "execution_count": 6
        }
      ]
    },
    {
      "cell_type": "code",
      "metadata": {
        "id": "hOl_jy1HGb4z",
        "outputId": "661fa7df-6c1d-4081-da45-3a5624b93317",
        "colab": {
          "base_uri": "https://localhost:8080/",
          "height": 220
        }
      },
      "source": [
        "'''\n",
        "NOTE:\n",
        "This data has been collected from the  Gallup World Poll,\n",
        "and used to prepare the World Happiness Reports for the years 2015 to 2019.\n",
        "Hence the data has been cleaned before being made available, \n",
        "which implies that there might be not be many missing values or outliers.\n",
        "'''\n",
        "print(df.isnull().sum())\n",
        "\n",
        "# we see only one missing value\n",
        "# this can be attributed to a random error, \n",
        "# and the corresponding tuple can be ignored\n",
        "\n",
        "'''\n",
        "The data has already been denoised, and is complete and consistent\n",
        "This eliminates the need for further data cleaning.\n",
        "\n",
        "There are no duplicates or redundancies in terms of data tuples.\n",
        "No corrections are required\n",
        "\n",
        "'''"
      ],
      "execution_count": null,
      "outputs": [
        {
          "output_type": "stream",
          "text": [
            "Health (Life Expectancy)         0\n",
            "year                             0\n",
            "Happiness Rank                   0\n",
            "Generosity                       0\n",
            "Freedom                          0\n",
            "Happiness Score                  0\n",
            "Trust (Government Corruption)    1\n",
            "Economy (GDP per Capita)         0\n",
            "Country                          0\n",
            "dtype: int64\n"
          ],
          "name": "stdout"
        },
        {
          "output_type": "execute_result",
          "data": {
            "application/vnd.google.colaboratory.intrinsic+json": {
              "type": "string"
            },
            "text/plain": [
              "'\\nThe data has already been denoised, and is complete and consistent\\nThis eliminates the need for further data cleaning.\\n\\nThere are no duplicates or redundancies in terms of data tuples.\\nNo corrections are required\\n\\n'"
            ]
          },
          "metadata": {
            "tags": []
          },
          "execution_count": 7
        }
      ]
    },
    {
      "cell_type": "code",
      "metadata": {
        "id": "TkYm1KAnGgJF",
        "outputId": "6bf20e14-4c61-42f2-9324-006d6d3e8959",
        "colab": {
          "base_uri": "https://localhost:8080/",
          "height": 282
        }
      },
      "source": [
        "# looking for outliers using boxplots\n",
        "\n",
        "# finding outliers for the variable 'Happiness score'\n",
        "# are there countries which are happier or sadder than usual?\n",
        "\n",
        "import seaborn as sns # for visualizations\n",
        "ax = sns.boxplot(x=df[\"year\"], y=df[\"Happiness Score\"])\n",
        "\n",
        "# the boxplots indicate almost unskewed data\n",
        "# the data seems to have no outliers\n",
        "# Happiness scores seem to follow a symmetric distribution across countries\n",
        "\n",
        "# note that the distribution of happiness score seems to remain fairly consistent over time"
      ],
      "execution_count": null,
      "outputs": [
        {
          "output_type": "display_data",
          "data": {
            "image/png": "[encoded data removed]",
            "text/plain": [
              "<Figure size 432x288 with 1 Axes>"
            ]
          },
          "metadata": {
            "tags": [],
            "needs_background": "light"
          }
        }
      ]
    },
    {
      "cell_type": "code",
      "metadata": {
        "id": "P-joWrc9GkKj",
        "outputId": "01051cab-a81e-444b-ab46-7fb25801d0fb",
        "colab": {
          "base_uri": "https://localhost:8080/",
          "height": 279
        }
      },
      "source": [
        "# The extent to which health affected happiness over the years\n",
        "ax = sns.boxplot(x=df[\"year\"], y=df[\"Health (Life Expectancy)\"])\n",
        "\n",
        "# except 2015, the contribution of health to the total happiness score has increased over the years\n",
        "# this could imply an overall increase in the life expectancy\n",
        "# we also observe a negative skew, indicating life expectancy usually has a significant impact on happiness"
      ],
      "execution_count": null,
      "outputs": [
        {
          "output_type": "display_data",
          "data": {
            "image/png": "[encoded data removed]",
            "text/plain": [
              "<Figure size 432x288 with 1 Axes>"
            ]
          },
          "metadata": {
            "tags": [],
            "needs_background": "light"
          }
        }
      ]
    },
    {
      "cell_type": "code",
      "metadata": {
        "id": "FGty0CWoGmaa",
        "outputId": "fdd904ea-da2b-480b-a4e3-aac462de421c",
        "colab": {
          "base_uri": "https://localhost:8080/",
          "height": 279
        }
      },
      "source": [
        "# The extent to which GDP affected affected happiness over the years\n",
        "\n",
        "ax = sns.boxplot(x=df[\"year\"], y=df[\"Economy (GDP per Capita)\"])\n",
        "\n",
        "# the effect of GDP has mostly remained constant over the years\n",
        "# 2016 and 2017 show slightly greater impact on happiness\n",
        "# one outlier for 2018: needs further investigation"
      ],
      "execution_count": null,
      "outputs": [
        {
          "output_type": "display_data",
          "data": {
            "image/png": "[encoded data removed]",
            "text/plain": [
              "<Figure size 432x288 with 1 Axes>"
            ]
          },
          "metadata": {
            "tags": [],
            "needs_background": "light"
          }
        }
      ]
    },
    {
      "cell_type": "code",
      "metadata": {
        "id": "Bc2dhwbUGpnh",
        "outputId": "f9f82643-e393-4f44-fb80-2fd74c94e2f7",
        "colab": {
          "base_uri": "https://localhost:8080/",
          "height": 279
        }
      },
      "source": [
        "# The extent to which government trust affected affected happiness over the years\n",
        "\n",
        "ax = sns.boxplot(x=df[\"year\"], y=df[\"Trust (Government Corruption)\"])\n",
        "\n",
        "# the contribution of government trust score is consistent over the years\n",
        "# however, the contribution of this attribute is much lesser than that of the others\n",
        "# this could indicate low trust in the government, or high corruption\n",
        "# we also note a lot of outliers\n",
        "# data has a positive skew\n",
        "# could interpret as: though the general consensus on government trust isn't all that positive,\n",
        "# there are countries with very high impact of govt trust on happiness\n",
        "# by further finding which countries these are, can analyse the political impact"
      ],
      "execution_count": null,
      "outputs": [
        {
          "output_type": "display_data",
          "data": {
            "image/png": "[encoded data removed]",
            "text/plain": [
              "<Figure size 432x288 with 1 Axes>"
            ]
          },
          "metadata": {
            "tags": [],
            "needs_background": "light"
          }
        }
      ]
    },
    {
      "cell_type": "code",
      "metadata": {
        "id": "7RdZ7BUGGtml",
        "outputId": "770881fc-ebc7-4168-827d-564c1e69db22",
        "colab": {
          "base_uri": "https://localhost:8080/",
          "height": 279
        }
      },
      "source": [
        "# The extent to which freedom affected happiness over the years\n",
        "\n",
        "ax = sns.boxplot(x=df[\"year\"], y=df[\"Freedom\"])\n",
        "\n",
        "# no set pattern \n",
        "# few outliers\n",
        "# the changes over the years can be atrributed to many factors: ruling govt, political unrest, etc\n",
        "# very hard to say from the limited information"
      ],
      "execution_count": null,
      "outputs": [
        {
          "output_type": "display_data",
          "data": {
            "image/png": "[encoded data removed]",
            "text/plain": [
              "<Figure size 432x288 with 1 Axes>"
            ]
          },
          "metadata": {
            "tags": [],
            "needs_background": "light"
          }
        }
      ]
    },
    {
      "cell_type": "code",
      "metadata": {
        "id": "u8l8026TGuU3",
        "outputId": "6a789a7b-16d5-41b2-b758-f5a52e49dd87",
        "colab": {
          "base_uri": "https://localhost:8080/",
          "height": 279
        }
      },
      "source": [
        "# The extent to which generosity affected affected happiness over the years\n",
        "\n",
        "ax = sns.boxplot(x=df[\"year\"], y=df[\"Generosity\"])\n",
        "\n",
        "# decrease in impact of generosity in the last two years - why?\n",
        "# Symmetric general, but quite a few outliers\n",
        "# this means that, every year, there are some countries which report very high contribution of generosity to happiness\n",
        "# are these richer or poorer countries? - further exploration required"
      ],
      "execution_count": null,
      "outputs": [
        {
          "output_type": "display_data",
          "data": {
            "image/png": "[encoded data removed]",
            "text/plain": [
              "<Figure size 432x288 with 1 Axes>"
            ]
          },
          "metadata": {
            "tags": [],
            "needs_background": "light"
          }
        }
      ]
    },
    {
      "cell_type": "code",
      "metadata": {
        "id": "5gqo52rMGyoB"
      },
      "source": [
        "continents = {'Asia':['India','Pakistan','Afghanistan','Armenia','Azerbaijan','Bahrain','Bangladesh','Bhutan','Cambodia','China','Hong Kong','Hong Kong S.A.R., China','Indonesia','Iran','Iraq','Israel','Jordan','Japan','Kazakhstan','Kuwait','Kyrgyzstan','Laos','Lebanon','Malaysia','Mongolia','Myanmar','Nepal','Oman','Palestinian Territories','Philippines','Qatar','Saudi Arabia','Singapore','South Korea','Sri Lanka','Syria','Taiwan','Taiwan Province of China','Tajikistan','Thailand','Turkey','Turkmenistan','United Arab Emirates','Uzbekistan','Vietnam','Yemen'],\n",
        "              'Europe':['Albania','Austria','Belgium','Belarus','Bosnia and Herzegovina','Bulgaria','Croatia','Cyprus','Czech Republic','Denmark','Estonia','Ireland','Finland','France','Georgia','Germany','Greece','Hungary','Iceland','Italy','Kosovo','Latvia','Lithuania','Luxembourg','Macedonia','Malta','Moldova','Montenegro','Netherlands','North Cyprus','North Macedonia','Northern Cyprus','Norway','Poland','Portugal','Romania','Russia','Serbia','Slovakia','Slovenia','Spain','Sweden','Switzerland','Ukraine','United Kingdom'],\n",
        "              'North America':['Belize','Canada','Costa Rica','Dominican Republic','El Salvador','Guatemala','Haiti','Honduras','Jamaica','Mexico','Nicaragua','Panama','Puerto Rico','United States'],\n",
        "              'South America':['Argentina','Bolivia','Brazil','Chile','Colombia','Ecuador','Paraguay','Peru','Suriname','Trinidad & Tobago','Trinidad and Tobago','Uruguay','Venezuela'],\n",
        "              'Antarctica':[],\n",
        "              'Africa':['Algeria','Angola','Benin','Botswana','Burkina Faso','Burundi','Cameroon','Central African Republic','Chad','Comoros','Congo (Brazzaville)','Congo (Kinshasa)','Djibouti','Egypt','Ethiopia','Gabon','Gambia','Ghana','Guinea','Ivory Coast','Kenya','Lesotho','Liberia','Libya','Madagascar','Malawi','Mali','Mauritania','Mauritius','Morocco','Mozambique','Namibia','Niger','Nigeria','Rwanda','Senegal','Sierra Leone','Somalia','Somaliland Region','Somaliland region','South Africa','South Sudan','Sudan','Swaziland','Tanzania','Togo','Tunisia','Uganda','Zambia','Zimbabwe'],\n",
        "              'Australia':['Australia','New Zealand']}"
      ],
      "execution_count": null,
      "outputs": []
    },
    {
      "cell_type": "code",
      "metadata": {
        "id": "1AoQWnAoGzGY",
        "outputId": "9ef955bf-f77f-4bb6-8b98-a91060e21de1",
        "colab": {
          "base_uri": "https://localhost:8080/",
          "height": 723
        }
      },
      "source": [
        "# Adding an additional continent attribute to each country\n",
        "# for ease of visualization, since plotting 150 countries on one graph would get messy\n",
        "\n",
        "df['Continent'] = ''\n",
        "for ind in df.index:\n",
        "    for x in continents:\n",
        "        if df['Country'][ind] in continents[x]:\n",
        "            df['Continent'][ind] = x\n",
        "\n",
        "# Just to verify continent attribute is set\n",
        "df.head(20)"
      ],
      "execution_count": null,
      "outputs": [
        {
          "output_type": "stream",
          "text": [
            "/usr/local/lib/python3.6/dist-packages/ipykernel_launcher.py:8: SettingWithCopyWarning: \n",
            "A value is trying to be set on a copy of a slice from a DataFrame\n",
            "\n",
            "See the caveats in the documentation: https://pandas.pydata.org/pandas-docs/stable/user_guide/indexing.html#returning-a-view-versus-a-copy\n",
            "  \n"
          ],
          "name": "stderr"
        },
        {
          "output_type": "execute_result",
          "data": {
            "text/html": [
              "<div>\n",
              "<style scoped>\n",
              "    .dataframe tbody tr th:only-of-type {\n",
              "        vertical-align: middle;\n",
              "    }\n",
              "\n",
              "    .dataframe tbody tr th {\n",
              "        vertical-align: top;\n",
              "    }\n",
              "\n",
              "    .dataframe thead th {\n",
              "        text-align: right;\n",
              "    }\n",
              "</style>\n",
              "<table border=\"1\" class=\"dataframe\">\n",
              "  <thead>\n",
              "    <tr style=\"text-align: right;\">\n",
              "      <th></th>\n",
              "      <th>Health (Life Expectancy)</th>\n",
              "      <th>year</th>\n",
              "      <th>Happiness Rank</th>\n",
              "      <th>Generosity</th>\n",
              "      <th>Freedom</th>\n",
              "      <th>Happiness Score</th>\n",
              "      <th>Trust (Government Corruption)</th>\n",
              "      <th>Economy (GDP per Capita)</th>\n",
              "      <th>Country</th>\n",
              "      <th>Continent</th>\n",
              "    </tr>\n",
              "  </thead>\n",
              "  <tbody>\n",
              "    <tr>\n",
              "      <th>0</th>\n",
              "      <td>0.173440</td>\n",
              "      <td>2016</td>\n",
              "      <td>154</td>\n",
              "      <td>0.312680</td>\n",
              "      <td>0.164300</td>\n",
              "      <td>3.360</td>\n",
              "      <td>0.071120</td>\n",
              "      <td>0.382270</td>\n",
              "      <td>Afghanistan</td>\n",
              "      <td>Asia</td>\n",
              "    </tr>\n",
              "    <tr>\n",
              "      <th>1</th>\n",
              "      <td>0.303350</td>\n",
              "      <td>2015</td>\n",
              "      <td>153</td>\n",
              "      <td>0.365100</td>\n",
              "      <td>0.234140</td>\n",
              "      <td>3.575</td>\n",
              "      <td>0.097190</td>\n",
              "      <td>0.319820</td>\n",
              "      <td>Afghanistan</td>\n",
              "      <td>Asia</td>\n",
              "    </tr>\n",
              "    <tr>\n",
              "      <th>2</th>\n",
              "      <td>0.255000</td>\n",
              "      <td>2018</td>\n",
              "      <td>145</td>\n",
              "      <td>0.191000</td>\n",
              "      <td>0.085000</td>\n",
              "      <td>3.632</td>\n",
              "      <td>0.036000</td>\n",
              "      <td>0.332000</td>\n",
              "      <td>Afghanistan</td>\n",
              "      <td>Asia</td>\n",
              "    </tr>\n",
              "    <tr>\n",
              "      <th>3</th>\n",
              "      <td>0.361000</td>\n",
              "      <td>2019</td>\n",
              "      <td>154</td>\n",
              "      <td>0.158000</td>\n",
              "      <td>0.000000</td>\n",
              "      <td>3.203</td>\n",
              "      <td>0.025000</td>\n",
              "      <td>0.350000</td>\n",
              "      <td>Afghanistan</td>\n",
              "      <td>Asia</td>\n",
              "    </tr>\n",
              "    <tr>\n",
              "      <th>4</th>\n",
              "      <td>0.180747</td>\n",
              "      <td>2017</td>\n",
              "      <td>141</td>\n",
              "      <td>0.311871</td>\n",
              "      <td>0.106180</td>\n",
              "      <td>3.794</td>\n",
              "      <td>0.061158</td>\n",
              "      <td>0.401477</td>\n",
              "      <td>Afghanistan</td>\n",
              "      <td>Asia</td>\n",
              "    </tr>\n",
              "    <tr>\n",
              "      <th>5</th>\n",
              "      <td>0.731160</td>\n",
              "      <td>2017</td>\n",
              "      <td>109</td>\n",
              "      <td>0.201313</td>\n",
              "      <td>0.381499</td>\n",
              "      <td>4.644</td>\n",
              "      <td>0.039864</td>\n",
              "      <td>0.996193</td>\n",
              "      <td>Albania</td>\n",
              "      <td>Europe</td>\n",
              "    </tr>\n",
              "    <tr>\n",
              "      <th>6</th>\n",
              "      <td>0.730070</td>\n",
              "      <td>2016</td>\n",
              "      <td>109</td>\n",
              "      <td>0.168400</td>\n",
              "      <td>0.318660</td>\n",
              "      <td>4.655</td>\n",
              "      <td>0.053010</td>\n",
              "      <td>0.955300</td>\n",
              "      <td>Albania</td>\n",
              "      <td>Europe</td>\n",
              "    </tr>\n",
              "    <tr>\n",
              "      <th>7</th>\n",
              "      <td>0.790000</td>\n",
              "      <td>2018</td>\n",
              "      <td>112</td>\n",
              "      <td>0.149000</td>\n",
              "      <td>0.419000</td>\n",
              "      <td>4.586</td>\n",
              "      <td>0.032000</td>\n",
              "      <td>0.916000</td>\n",
              "      <td>Albania</td>\n",
              "      <td>Europe</td>\n",
              "    </tr>\n",
              "    <tr>\n",
              "      <th>8</th>\n",
              "      <td>0.874000</td>\n",
              "      <td>2019</td>\n",
              "      <td>107</td>\n",
              "      <td>0.178000</td>\n",
              "      <td>0.383000</td>\n",
              "      <td>4.719</td>\n",
              "      <td>0.027000</td>\n",
              "      <td>0.947000</td>\n",
              "      <td>Albania</td>\n",
              "      <td>Europe</td>\n",
              "    </tr>\n",
              "    <tr>\n",
              "      <th>9</th>\n",
              "      <td>0.813250</td>\n",
              "      <td>2015</td>\n",
              "      <td>95</td>\n",
              "      <td>0.142720</td>\n",
              "      <td>0.357330</td>\n",
              "      <td>4.959</td>\n",
              "      <td>0.064130</td>\n",
              "      <td>0.878670</td>\n",
              "      <td>Albania</td>\n",
              "      <td>Europe</td>\n",
              "    </tr>\n",
              "    <tr>\n",
              "      <th>10</th>\n",
              "      <td>0.618040</td>\n",
              "      <td>2016</td>\n",
              "      <td>38</td>\n",
              "      <td>0.070440</td>\n",
              "      <td>0.210060</td>\n",
              "      <td>6.355</td>\n",
              "      <td>0.161570</td>\n",
              "      <td>1.052660</td>\n",
              "      <td>Algeria</td>\n",
              "      <td>Africa</td>\n",
              "    </tr>\n",
              "    <tr>\n",
              "      <th>11</th>\n",
              "      <td>0.617660</td>\n",
              "      <td>2015</td>\n",
              "      <td>68</td>\n",
              "      <td>0.078220</td>\n",
              "      <td>0.285790</td>\n",
              "      <td>5.605</td>\n",
              "      <td>0.173830</td>\n",
              "      <td>0.939290</td>\n",
              "      <td>Algeria</td>\n",
              "      <td>Africa</td>\n",
              "    </tr>\n",
              "    <tr>\n",
              "      <th>12</th>\n",
              "      <td>0.785000</td>\n",
              "      <td>2019</td>\n",
              "      <td>88</td>\n",
              "      <td>0.073000</td>\n",
              "      <td>0.086000</td>\n",
              "      <td>5.211</td>\n",
              "      <td>0.114000</td>\n",
              "      <td>1.002000</td>\n",
              "      <td>Algeria</td>\n",
              "      <td>Africa</td>\n",
              "    </tr>\n",
              "    <tr>\n",
              "      <th>13</th>\n",
              "      <td>0.617585</td>\n",
              "      <td>2017</td>\n",
              "      <td>53</td>\n",
              "      <td>0.069437</td>\n",
              "      <td>0.233336</td>\n",
              "      <td>5.872</td>\n",
              "      <td>0.146096</td>\n",
              "      <td>1.091864</td>\n",
              "      <td>Algeria</td>\n",
              "      <td>Africa</td>\n",
              "    </tr>\n",
              "    <tr>\n",
              "      <th>14</th>\n",
              "      <td>0.687000</td>\n",
              "      <td>2018</td>\n",
              "      <td>84</td>\n",
              "      <td>0.055000</td>\n",
              "      <td>0.077000</td>\n",
              "      <td>5.295</td>\n",
              "      <td>0.135000</td>\n",
              "      <td>0.979000</td>\n",
              "      <td>Algeria</td>\n",
              "      <td>Africa</td>\n",
              "    </tr>\n",
              "    <tr>\n",
              "      <th>15</th>\n",
              "      <td>0.166830</td>\n",
              "      <td>2015</td>\n",
              "      <td>137</td>\n",
              "      <td>0.123440</td>\n",
              "      <td>0.103840</td>\n",
              "      <td>4.033</td>\n",
              "      <td>0.071220</td>\n",
              "      <td>0.757780</td>\n",
              "      <td>Angola</td>\n",
              "      <td>Africa</td>\n",
              "    </tr>\n",
              "    <tr>\n",
              "      <th>16</th>\n",
              "      <td>0.049869</td>\n",
              "      <td>2017</td>\n",
              "      <td>140</td>\n",
              "      <td>0.097926</td>\n",
              "      <td>0.000000</td>\n",
              "      <td>3.795</td>\n",
              "      <td>0.069720</td>\n",
              "      <td>0.858428</td>\n",
              "      <td>Angola</td>\n",
              "      <td>Africa</td>\n",
              "    </tr>\n",
              "    <tr>\n",
              "      <th>17</th>\n",
              "      <td>0.049910</td>\n",
              "      <td>2016</td>\n",
              "      <td>141</td>\n",
              "      <td>0.120710</td>\n",
              "      <td>0.005890</td>\n",
              "      <td>3.866</td>\n",
              "      <td>0.084340</td>\n",
              "      <td>0.847310</td>\n",
              "      <td>Angola</td>\n",
              "      <td>Africa</td>\n",
              "    </tr>\n",
              "    <tr>\n",
              "      <th>18</th>\n",
              "      <td>0.269000</td>\n",
              "      <td>2018</td>\n",
              "      <td>142</td>\n",
              "      <td>0.079000</td>\n",
              "      <td>0.000000</td>\n",
              "      <td>3.795</td>\n",
              "      <td>0.061000</td>\n",
              "      <td>0.730000</td>\n",
              "      <td>Angola</td>\n",
              "      <td>Africa</td>\n",
              "    </tr>\n",
              "    <tr>\n",
              "      <th>19</th>\n",
              "      <td>0.744000</td>\n",
              "      <td>2018</td>\n",
              "      <td>29</td>\n",
              "      <td>0.062000</td>\n",
              "      <td>0.570000</td>\n",
              "      <td>6.388</td>\n",
              "      <td>0.054000</td>\n",
              "      <td>1.073000</td>\n",
              "      <td>Argentina</td>\n",
              "      <td>South America</td>\n",
              "    </tr>\n",
              "  </tbody>\n",
              "</table>\n",
              "</div>"
            ],
            "text/plain": [
              "    Health (Life Expectancy)  year  ...      Country      Continent\n",
              "0                   0.173440  2016  ...  Afghanistan           Asia\n",
              "1                   0.303350  2015  ...  Afghanistan           Asia\n",
              "2                   0.255000  2018  ...  Afghanistan           Asia\n",
              "3                   0.361000  2019  ...  Afghanistan           Asia\n",
              "4                   0.180747  2017  ...  Afghanistan           Asia\n",
              "5                   0.731160  2017  ...      Albania         Europe\n",
              "6                   0.730070  2016  ...      Albania         Europe\n",
              "7                   0.790000  2018  ...      Albania         Europe\n",
              "8                   0.874000  2019  ...      Albania         Europe\n",
              "9                   0.813250  2015  ...      Albania         Europe\n",
              "10                  0.618040  2016  ...      Algeria         Africa\n",
              "11                  0.617660  2015  ...      Algeria         Africa\n",
              "12                  0.785000  2019  ...      Algeria         Africa\n",
              "13                  0.617585  2017  ...      Algeria         Africa\n",
              "14                  0.687000  2018  ...      Algeria         Africa\n",
              "15                  0.166830  2015  ...       Angola         Africa\n",
              "16                  0.049869  2017  ...       Angola         Africa\n",
              "17                  0.049910  2016  ...       Angola         Africa\n",
              "18                  0.269000  2018  ...       Angola         Africa\n",
              "19                  0.744000  2018  ...    Argentina  South America\n",
              "\n",
              "[20 rows x 10 columns]"
            ]
          },
          "metadata": {
            "tags": []
          },
          "execution_count": 15
        }
      ]
    },
    {
      "cell_type": "code",
      "metadata": {
        "id": "JSIq6PJTmtYH",
        "outputId": "bdb3472d-76dd-4c38-b5bc-6f355bf209f6",
        "colab": {
          "base_uri": "https://localhost:8080/",
          "height": 606
        }
      },
      "source": [
        "import matplotlib.pyplot as plt\n",
        "plt.figure(figsize=(10,10))\n",
        "sns.barplot(x=df['Continent'],y=df['Happiness Rank'])\n",
        "plt.xlabel('Continents')\n",
        "plt.ylabel('Happiness Rank')\n",
        "plt.show()\n",
        "\n",
        "#Shows that Africa is the continent with highest Ranks, is in accordance to the socio-economic factors observed.\n",
        "#Australia is the happiest continent\n",
        "#Can see a trend of more developed continents having better happiness ranks"
      ],
      "execution_count": null,
      "outputs": [
        {
          "output_type": "display_data",
          "data": {
            "image/png": "[encoded data removed]",
            "text/plain": [
              "<Figure size 720x720 with 1 Axes>"
            ]
          },
          "metadata": {
            "tags": [],
            "needs_background": "light"
          }
        }
      ]
    },
    {
      "cell_type": "code",
      "metadata": {
        "id": "2uVGdOvuqCQk",
        "outputId": "db9ac3e6-ae5f-49ad-d2b1-93272c2fd935",
        "colab": {
          "base_uri": "https://localhost:8080/",
          "height": 118
        }
      },
      "source": [
        "dff=df.sort_values(by=['Happiness Rank'],inplace=False)\n",
        "print(dff['Country'].iloc[0])\n",
        "print(\"Belonging to Continent:\")\n",
        "print(\"\\t\"+dff['Continent'].iloc[0])\n",
        "print(dff['Country'].iloc[-1])\n",
        "print(\"Belonging to Continent:\")\n",
        "print(\"\\t\"+dff['Continent'].iloc[-1])\n",
        "#the happiest country\n",
        "#the least happy country"
      ],
      "execution_count": null,
      "outputs": [
        {
          "output_type": "stream",
          "text": [
            "Finland\n",
            "Belonging to Continent:\n",
            "\tEurope\n",
            "Togo\n",
            "Belonging to Continent:\n",
            "\tAfrica\n"
          ],
          "name": "stdout"
        }
      ]
    },
    {
      "cell_type": "code",
      "metadata": {
        "id": "MN9xcxhesBW4",
        "outputId": "58eb16f2-8f8b-4877-a5c6-30bb089ee059",
        "colab": {
          "base_uri": "https://localhost:8080/",
          "height": 593
        }
      },
      "source": [
        "#Comparing all numeric attributes between Finland and Togo:\n",
        "import numpy as np\n",
        "labels=['Health','Generosity','Freedom','Trust (Government Corruption)','Economy (GDP per Capita)']\n",
        "Finland_values=dff[['Health (Life Expectancy)','Generosity','Freedom','Trust (Government Corruption)','Economy (GDP per Capita)']].iloc[0]\n",
        "Togo_values=dff[['Health (Life Expectancy)','Generosity','Freedom','Trust (Government Corruption)','Economy (GDP per Capita)']].iloc[-1]\n",
        "x = np.arange(len(labels)) \n",
        "width = 0.35  \n",
        "fig, ax = plt.subplots(figsize=(20,10))\n",
        "rect_fin = ax.bar(x - width/2, Finland_values, width, label='Finland')\n",
        "rect_togo = ax.bar(x + width/2, Togo_values, width, label='Togo')\n",
        "ax.set_ylabel('Measure')\n",
        "ax.set_xticks(x)\n",
        "ax.set_xticklabels(labels)\n",
        "ax.legend()\n",
        "plt.show()\n",
        "#Observation: Genorisity in Togo is slightly higher than genorisity levels in Finland.\n",
        "#Maybe happiness does not have a direct affect on generous nature.\n",
        "#Wide disparities in Health and Economy suggest they could be major causes of unhappiness."
      ],
      "execution_count": null,
      "outputs": [
        {
          "output_type": "display_data",
          "data": {
            "image/png": "[encoded data removed]",
            "text/plain": [
              "<Figure size 1440x720 with 1 Axes>"
            ]
          },
          "metadata": {
            "tags": [],
            "needs_background": "light"
          }
        }
      ]
    },
    {
      "cell_type": "code",
      "metadata": {
        "id": "THSkMtvHY4St",
        "outputId": "623558fd-f127-4df4-e499-b146dfabbe1b",
        "colab": {
          "base_uri": "https://localhost:8080/",
          "height": 265
        }
      },
      "source": [
        "#Effects of an individual attribute\n",
        "plt.scatter(df['Health (Life Expectancy)'],df['Happiness Rank'])\n",
        "plt.show()\n",
        "#Noticeable positive correlation between Health and Happiness."
      ],
      "execution_count": null,
      "outputs": [
        {
          "output_type": "display_data",
          "data": {
            "image/png": "[encoded data removed]",
            "text/plain": [
              "<Figure size 432x288 with 1 Axes>"
            ]
          },
          "metadata": {
            "tags": [],
            "needs_background": "light"
          }
        }
      ]
    },
    {
      "cell_type": "code",
      "metadata": {
        "id": "8DUVwKjOZO-r",
        "outputId": "318069cd-e212-4afd-fdf5-8fa7d012a9bc",
        "colab": {
          "base_uri": "https://localhost:8080/",
          "height": 265
        }
      },
      "source": [
        "plt.scatter(df['Generosity'],df['Happiness Rank'])\n",
        "plt.show()\n",
        "#Absolutely no correlation between Generosity and Happiness.\n",
        "#According to the plot the most generous countries have higher happiness ranks."
      ],
      "execution_count": null,
      "outputs": [
        {
          "output_type": "display_data",
          "data": {
            "image/png": "[encoded data removed]",
            "text/plain": [
              "<Figure size 432x288 with 1 Axes>"
            ]
          },
          "metadata": {
            "tags": [],
            "needs_background": "light"
          }
        }
      ]
    },
    {
      "cell_type": "code",
      "metadata": {
        "id": "fATHTpP7ZhzX",
        "outputId": "a1de624a-0bdc-42ba-8490-55f79e1efee2",
        "colab": {
          "base_uri": "https://localhost:8080/",
          "height": 265
        }
      },
      "source": [
        "plt.scatter(df['Freedom'],df['Happiness Rank'])\n",
        "plt.show()\n",
        "#Weak correlation between Freedom and Happiness."
      ],
      "execution_count": null,
      "outputs": [
        {
          "output_type": "display_data",
          "data": {
            "image/png": "[encoded data removed]",
            "text/plain": [
              "<Figure size 432x288 with 1 Axes>"
            ]
          },
          "metadata": {
            "tags": [],
            "needs_background": "light"
          }
        }
      ]
    },
    {
      "cell_type": "code",
      "metadata": {
        "id": "6CBJuBkHZqju",
        "outputId": "21b4a3f0-530b-471e-d116-d07a9e7745d8",
        "colab": {
          "base_uri": "https://localhost:8080/",
          "height": 265
        }
      },
      "source": [
        "plt.scatter(df['Trust (Government Corruption)'],df['Happiness Rank'])\n",
        "plt.show()\n",
        "#No correlation between Trust and Happiness.\n",
        "#Trend suggests very few countries have high trust scores."
      ],
      "execution_count": null,
      "outputs": [
        {
          "output_type": "display_data",
          "data": {
            "image/png": "[encoded data removed]",
            "text/plain": [
              "<Figure size 432x288 with 1 Axes>"
            ]
          },
          "metadata": {
            "tags": [],
            "needs_background": "light"
          }
        }
      ]
    },
    {
      "cell_type": "code",
      "metadata": {
        "id": "DcUQklBcZyYq",
        "outputId": "f7d24d17-bb37-47c1-c6db-d46d8352157d",
        "colab": {
          "base_uri": "https://localhost:8080/",
          "height": 265
        }
      },
      "source": [
        "plt.scatter(df['Economy (GDP per Capita)'],df['Happiness Rank'])\n",
        "plt.show()\n",
        "#Noticable correlation between Economy and Happiness."
      ],
      "execution_count": null,
      "outputs": [
        {
          "output_type": "display_data",
          "data": {
            "image/png": "[encoded data removed]",
            "text/plain": [
              "<Figure size 432x288 with 1 Axes>"
            ]
          },
          "metadata": {
            "tags": [],
            "needs_background": "light"
          }
        }
      ]
    },
    {
      "cell_type": "code",
      "metadata": {
        "id": "YlD5U8PzZ47F",
        "outputId": "2f855223-3026-4476-88d4-ff6cda6b472b",
        "colab": {
          "base_uri": "https://localhost:8080/",
          "height": 265
        }
      },
      "source": [
        "#Investigating whether economy and health might themsevles be correlated\n",
        "plt.scatter(df['Economy (GDP per Capita)'],df['Health (Life Expectancy)'])\n",
        "plt.show()\n",
        "#Shows a positive trend Economy has some effect on Life Expectancy\n",
        "#Possibly explained by countries having higher economy have sufficient earnings to be able to access healthcare."
      ],
      "execution_count": null,
      "outputs": [
        {
          "output_type": "display_data",
          "data": {
            "image/png": "[encoded data removed]",
            "text/plain": [
              "<Figure size 432x288 with 1 Axes>"
            ]
          },
          "metadata": {
            "tags": [],
            "needs_background": "light"
          }
        }
      ]
    },
    {
      "cell_type": "code",
      "metadata": {
        "id": "SDnyYghYbwb2",
        "outputId": "562935ef-481a-4d5a-b221-95b741599fda",
        "colab": {
          "base_uri": "https://localhost:8080/",
          "height": 265
        }
      },
      "source": [
        "#Investigating whether economy and trust might themsevles be correlated\n",
        "plt.scatter(df['Economy (GDP per Capita)'],df['Trust (Government Corruption)'])\n",
        "plt.show()\n",
        "#Shows no specific trend"
      ],
      "execution_count": null,
      "outputs": [
        {
          "output_type": "display_data",
          "data": {
            "image/png": "[encoded data removed]",
            "text/plain": [
              "<Figure size 432x288 with 1 Axes>"
            ]
          },
          "metadata": {
            "tags": [],
            "needs_background": "light"
          }
        }
      ]
    },
    {
      "cell_type": "code",
      "metadata": {
        "id": "lu7cxsS-cGbk"
      },
      "source": [
        "#Takeaways \n",
        "#Economy and Health seem to influence Happiness the most\n",
        "#There is some correlation between the Economy and Health of a country\n",
        "#Level of Generosity does not seem to be correlated to happiness"
      ],
      "execution_count": null,
      "outputs": []
    },
    {
      "cell_type": "code",
      "metadata": {
        "id": "Ki4KqKKmv6We"
      },
      "source": [
        "# top 10 happiest countries \n",
        "\n",
        "avg_country_happiness = {}\n",
        "count1 = {}\n",
        "for ind in df.index:\n",
        "    avg_country_happiness[df['Country'][ind]] = 0\n",
        "    count1[df['Country'][ind]] = 0\n",
        "\n",
        "for ind in df.index:\n",
        "    avg_country_happiness[df['Country'][ind]] += df['Happiness Score'][ind]\n",
        "    count1[df['Country'][ind]] += 1\n",
        "\n",
        "for i in avg_country_happiness:\n",
        "    avg_country_happiness[i] = avg_country_happiness[i]/count1[i]\n"
      ],
      "execution_count": null,
      "outputs": []
    },
    {
      "cell_type": "code",
      "metadata": {
        "id": "X7XKocO39L2T",
        "outputId": "7f96dfae-62f6-49e3-ebe3-b33224dc896a",
        "colab": {
          "base_uri": "https://localhost:8080/",
          "height": 202
        }
      },
      "source": [
        "# top 10 happiest countries\n",
        "\n",
        "plo = {}\n",
        "count = 0\n",
        "for i in sorted(avg_country_happiness,key = lambda x:avg_country_happiness[x],reverse=True):\n",
        "    if count == 10:\n",
        "        break\n",
        "    plo[i] = avg_country_happiness[i]\n",
        "    count += 1\n",
        "\n",
        "print(\"The top 10 countries in terms of average happiness score\")\n",
        "for i in plo:\n",
        "    print(i,plo[i])"
      ],
      "execution_count": null,
      "outputs": [
        {
          "output_type": "stream",
          "text": [
            "The top 10 countries in terms of average happiness score\n",
            "Denmark 7.545999967193604\n",
            "Norway 7.541000035858152\n",
            "Finland 7.537799972534181\n",
            "Switzerland 7.511399991607666\n",
            "Iceland 7.511000037384034\n",
            "Netherlands 7.4045999710083\n",
            "Canada 7.350599996948242\n",
            "Sweden 7.319199983978272\n",
            "New Zealand 7.313000025939941\n",
            "Australia 7.276199983978271\n"
          ],
          "name": "stdout"
        }
      ]
    },
    {
      "cell_type": "code",
      "metadata": {
        "id": "d_D5BzRL9SUv",
        "outputId": "ddf76017-0aae-47f3-ff36-29b5b2387a25",
        "colab": {
          "base_uri": "https://localhost:8080/",
          "height": 202
        }
      },
      "source": [
        "# top 10 unhappiest countries\n",
        "\n",
        "plo = {}\n",
        "count = 0\n",
        "for i in sorted(avg_country_happiness,key = lambda x:avg_country_happiness[x]):\n",
        "    if count == 10:\n",
        "        break\n",
        "    plo[i] = avg_country_happiness[i]\n",
        "    count += 1\n",
        "\n",
        "print(\"The bottom 10 countries in terms of average happiness score\")\n",
        "for i in plo:\n",
        "    print(i,plo[i])"
      ],
      "execution_count": null,
      "outputs": [
        {
          "output_type": "stream",
          "text": [
            "The bottom 10 countries in terms of average happiness score\n",
            "Burundi 3.078999994277954\n",
            "Central African Republic 3.134250019550323\n",
            "Syria 3.292199978637696\n",
            "South Sudan 3.3825000200271598\n",
            "Rwanda 3.4385999912261958\n",
            "Tanzania 3.4659999954223637\n",
            "Afghanistan 3.512799982070922\n",
            "Togo 3.5441999771118162\n",
            "Yemen 3.6257999870300304\n",
            "Madagascar 3.745400010681152\n"
          ],
          "name": "stdout"
        }
      ]
    },
    {
      "cell_type": "code",
      "metadata": {
        "id": "5QcdMi119Vpz",
        "outputId": "6ce977af-6082-4104-fff8-4af546777240",
        "colab": {
          "base_uri": "https://localhost:8080/",
          "height": 592
        }
      },
      "source": [
        "# India vs Finland (The happiest country for 3 years staright)\n",
        "\n",
        "import numpy as np\n",
        "import matplotlib.pyplot as plt\n",
        "\n",
        "ind_val = []\n",
        "fin_val = []\n",
        "\n",
        "dff=df.sort_values(by=['Happiness Rank'],inplace=False)\n",
        "\n",
        "labels=['Health (Life Expectancy)','Generosity','Freedom','Trust (Government Corruption)','Economy (GDP per Capita)']\n",
        "india_values = {}\n",
        "for i in labels:\n",
        "    india_values[i] = 0\n",
        "for ind in df.index:\n",
        "    if df['Country'][ind] == 'India':\n",
        "        for i in labels:\n",
        "            india_values[i] += df[i][ind]\n",
        "for i in india_values:\n",
        "    india_values[i] = india_values[i]/count1['India']\n",
        "for i in india_values:\n",
        "    ind_val.append(india_values[i])\n",
        "\n",
        "fin_values = {}\n",
        "for i in labels:\n",
        "    fin_values[i] = 0\n",
        "for ind in df.index:\n",
        "    if df['Country'][ind] == 'Finland':\n",
        "        for i in labels:\n",
        "            fin_values[i] += df[i][ind]\n",
        "for i in fin_values:\n",
        "    fin_values[i] = fin_values[i]/count1['Finland']\n",
        "for i in fin_values:\n",
        "    fin_val.append(fin_values[i])\n",
        "    \n",
        "    \n",
        "labels[0] = 'Health'\n",
        "\n",
        "x = np.arange(len(labels)) \n",
        "width = 0.35  \n",
        "fig, ax = plt.subplots(figsize=(20,10))\n",
        "rect_fin = ax.bar(x - width/2, fin_val, width, label='Finland')\n",
        "rect_ind = ax.bar(x + width/2, ind_val, width, label='India')\n",
        "ax.set_ylabel('Measure')\n",
        "ax.set_xticks(x)\n",
        "ax.set_xticklabels(labels)\n",
        "ax.legend()\n",
        "plt.show()\n",
        "\n",
        "# A very significant differentiating factor is Goverment Trust\n",
        "# Another point of difference: GDP\n",
        "\n",
        "# Thus,India needs to reduce corruption and increase GDP to be as happy as the likes of Finland"
      ],
      "execution_count": null,
      "outputs": [
        {
          "output_type": "display_data",
          "data": {
            "image/png": "[encoded data removed]",
            "text/plain": [
              "<Figure size 1440x720 with 1 Axes>"
            ]
          },
          "metadata": {
            "tags": [],
            "needs_background": "light"
          }
        }
      ]
    },
    {
      "cell_type": "code",
      "metadata": {
        "id": "ItnGetW99ZVU",
        "outputId": "34d79588-ca7b-454c-aaab-9bcfdd34220b",
        "colab": {
          "base_uri": "https://localhost:8080/",
          "height": 592
        }
      },
      "source": [
        "# India vs Togo (The unhappiest country)\n",
        "\n",
        "import numpy as np\n",
        "import matplotlib.pyplot as plt\n",
        "\n",
        "tog_val = []\n",
        "\n",
        "dff=df.sort_values(by=['Happiness Rank'],inplace=False)\n",
        "\n",
        "labels=['Health (Life Expectancy)','Generosity','Freedom','Trust (Government Corruption)','Economy (GDP per Capita)']\n",
        "india_values = {}\n",
        "for i in labels:\n",
        "    india_values[i] = 0\n",
        "for ind in df.index:\n",
        "    if df['Country'][ind] == 'India':\n",
        "        for i in labels:\n",
        "            india_values[i] += df[i][ind]\n",
        "for i in india_values:\n",
        "    india_values[i] = india_values[i]/count1['India']\n",
        "for i in india_values:\n",
        "    ind_val.append(india_values[i])\n",
        "\n",
        "tog_values = {}\n",
        "for i in labels:\n",
        "    tog_values[i] = 0\n",
        "for ind in df.index:\n",
        "    if df['Country'][ind] == 'Togo':\n",
        "        for i in labels:\n",
        "            tog_values[i] += df[i][ind]\n",
        "for i in tog_values:\n",
        "    tog_values[i] = tog_values[i]/count1['Togo']\n",
        "for i in tog_values:\n",
        "    tog_val.append(tog_values[i])\n",
        "    \n",
        "    \n",
        "labels[0] = 'Health'\n",
        "\n",
        "x = np.arange(len(labels)) \n",
        "width = 0.35  \n",
        "fig, ax = plt.subplots(figsize=(20,10))\n",
        "rect_ind = ax.bar(x - width/2, fin_val, width, label='India')\n",
        "rect_tog = ax.bar(x + width/2, tog_val, width, label='Togo')\n",
        "ax.set_ylabel('Measure')\n",
        "ax.set_xticks(x)\n",
        "ax.set_xticklabels(labels)\n",
        "ax.legend()\n",
        "plt.show()\n",
        "\n",
        "# A factor which leads to a happier India in comparision to Togo is the GDP and health\n",
        "\n",
        "# KEY LESSON FROM THESE TWO PLOTS\n",
        "# Finland is most developed\n",
        "# India is moderately developed\n",
        "# Togo is relatively less developed\n",
        "\n",
        "# Development influences economy, and economy influences HAPPINESS"
      ],
      "execution_count": null,
      "outputs": [
        {
          "output_type": "display_data",
          "data": {
            "image/png": "[encoded data removed]",
            "text/plain": [
              "<Figure size 1440x720 with 1 Axes>"
            ]
          },
          "metadata": {
            "tags": [],
            "needs_background": "light"
          }
        }
      ]
    },
    {
      "cell_type": "code",
      "metadata": {
        "id": "McGAAtXBfY9Q",
        "outputId": "2a4ce76b-6701-4d79-e1d2-26323d4dfab6",
        "colab": {
          "base_uri": "https://localhost:8080/",
          "height": 265
        }
      },
      "source": [
        "# Generosity vs economy\n",
        "\n",
        "import matplotlib.pyplot as plt\n",
        "\n",
        "plt.scatter(df['Health (Life Expectancy)'],df['Generosity'])\n",
        "plt.show()\n"
      ],
      "execution_count": null,
      "outputs": [
        {
          "output_type": "display_data",
          "data": {
            "image/png": "[encoded data removed]",
            "text/plain": [
              "<Figure size 432x288 with 1 Axes>"
            ]
          },
          "metadata": {
            "tags": [],
            "needs_background": "light"
          }
        }
      ]
    }
  ]
}