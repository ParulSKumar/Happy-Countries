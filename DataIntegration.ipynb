{
  "nbformat": 4,
  "nbformat_minor": 0,
  "metadata": {
    "colab": {
      "name": "DataIntegration.ipynb",
      "provenance": [],
      "collapsed_sections": [],
      "include_colab_link": true
    },
    "kernelspec": {
      "name": "python3",
      "display_name": "Python 3"
    }
  },
  "cells": [
    {
      "cell_type": "markdown",
      "metadata": {
        "id": "view-in-github",
        "colab_type": "text"
      },
      "source": [
        "<a href=\"https://colab.research.google.com/github/ananyaangadi/Pursuit-Of-Happiness/blob/master/DataIntegration.ipynb\" target=\"_parent\"><img src=\"https://colab.research.google.com/assets/colab-badge.svg\" alt=\"Open In Colab\"/></a>"
      ]
    },
    {
      "cell_type": "markdown",
      "metadata": {
        "id": "1dBJwkW_EzE7"
      },
      "source": [
        "IMPORTING LIBRARIES"
      ]
    },
    {
      "cell_type": "code",
      "metadata": {
        "id": "o6cCk2T7EjDk"
      },
      "source": [
        "import pandas as pd\n",
        "import numpy as np\n",
        "from functools import reduce"
      ],
      "execution_count": null,
      "outputs": []
    },
    {
      "cell_type": "markdown",
      "metadata": {
        "id": "pgS_laQOE6X7"
      },
      "source": [
        "PRE - PROCESSING"
      ]
    },
    {
      "cell_type": "code",
      "metadata": {
        "id": "4KnqDXTnE8Ui"
      },
      "source": [
        "url1='https://raw.githubusercontent.com/ParulSKumar/Happy-Countries/master/2015.csv'\n",
        "df1=pd.read_csv(url1)\n",
        "url2='https://raw.githubusercontent.com/ParulSKumar/Happy-Countries/master/2016.csv'\n",
        "df2=pd.read_csv(url2)\n",
        "url3='https://raw.githubusercontent.com/ParulSKumar/Happy-Countries/master/2017.csv'\n",
        "df3=pd.read_csv(url3)\n",
        "url4='https://raw.githubusercontent.com/ParulSKumar/Happy-Countries/master/2018.csv'\n",
        "df4=pd.read_csv(url4)\n",
        "url5='https://raw.githubusercontent.com/ParulSKumar/Happy-Countries/master/2019.csv'\n",
        "df5=pd.read_csv(url5)"
      ],
      "execution_count": null,
      "outputs": []
    },
    {
      "cell_type": "code",
      "metadata": {
        "id": "GZigwPbZE-rt",
        "outputId": "c084a528-5e92-469f-9cea-d795339e5c4f",
        "colab": {
          "base_uri": "https://localhost:8080/",
          "height": 454
        }
      },
      "source": [
        "# Combining data for all 5 years into one dataframe\n",
        "# adding the 'year' column to each year's data\n",
        "\n",
        "df1['year']=2015\n",
        "df2['year']=2016\n",
        "df3['year']=2017\n",
        "df4['year']=2018\n",
        "df5['year']=2019\n",
        "\n",
        "combined=[df1,df2,df3,df4,df5]\n",
        "\n",
        "for i in combined:\n",
        "    print(i.columns)"
      ],
      "execution_count": null,
      "outputs": [
        {
          "output_type": "stream",
          "text": [
            "Index(['Country', 'Region', 'Happiness Rank', 'Happiness Score',\n",
            "       'Standard Error', 'Economy (GDP per Capita)', 'Family',\n",
            "       'Health (Life Expectancy)', 'Freedom', 'Trust (Government Corruption)',\n",
            "       'Generosity', 'Dystopia Residual', 'year'],\n",
            "      dtype='object')\n",
            "Index(['Country', 'Region', 'Happiness Rank', 'Happiness Score',\n",
            "       'Lower Confidence Interval', 'Upper Confidence Interval',\n",
            "       'Economy (GDP per Capita)', 'Family', 'Health (Life Expectancy)',\n",
            "       'Freedom', 'Trust (Government Corruption)', 'Generosity',\n",
            "       'Dystopia Residual', 'year'],\n",
            "      dtype='object')\n",
            "Index(['Country', 'Happiness.Rank', 'Happiness.Score', 'Whisker.high',\n",
            "       'Whisker.low', 'Economy..GDP.per.Capita.', 'Family',\n",
            "       'Health..Life.Expectancy.', 'Freedom', 'Generosity',\n",
            "       'Trust..Government.Corruption.', 'Dystopia.Residual', 'year'],\n",
            "      dtype='object')\n",
            "Index(['Overall rank', 'Country or region', 'Score', 'GDP per capita',\n",
            "       'Social support', 'Healthy life expectancy',\n",
            "       'Freedom to make life choices', 'Generosity',\n",
            "       'Perceptions of corruption', 'year'],\n",
            "      dtype='object')\n",
            "Index(['Overall rank', 'Country or region', 'Score', 'GDP per capita',\n",
            "       'Social support', 'Healthy life expectancy',\n",
            "       'Freedom to make life choices', 'Generosity',\n",
            "       'Perceptions of corruption', 'year'],\n",
            "      dtype='object')\n"
          ],
          "name": "stdout"
        }
      ]
    },
    {
      "cell_type": "code",
      "metadata": {
        "id": "uBRk2WzAFHrM"
      },
      "source": [
        "# Renaming columns for ease of integration\n",
        "\n",
        "df3.columns=[ 'Country','Happiness Rank', 'Happiness Score','Whisker.high','Whisker.low','Economy (GDP per Capita)',\n",
        "       'Family','Health (Life Expectancy)' ,\n",
        "       'Freedom', 'Generosity',\n",
        "       'Trust (Government Corruption)','Dystopia.Residual','year']\n",
        "\n",
        "df4.columns=['Happiness Rank', 'Country', 'Happiness Score', 'Economy (GDP per Capita)',\n",
        "       'Social support','Health (Life Expectancy)' ,\n",
        "       'Freedom', 'Generosity',\n",
        "       'Trust (Government Corruption)','year']\n",
        "\n",
        "df5.columns=['Happiness Rank', 'Country', 'Happiness Score', 'Economy (GDP per Capita)',\n",
        "       'Social support','Health (Life Expectancy)' ,\n",
        "       'Freedom', 'Generosity',\n",
        "       'Trust (Government Corruption)','year']"
      ],
      "execution_count": null,
      "outputs": []
    },
    {
      "cell_type": "code",
      "metadata": {
        "id": "9-nkWwWLFV58",
        "outputId": "ddf1fa81-c861-43f6-816f-b56c73072afc",
        "colab": {
          "base_uri": "https://localhost:8080/",
          "height": 34
        }
      },
      "source": [
        "s1=set(df1.columns)\n",
        "s2=set(df2.columns)\n",
        "s3=set(df3.columns)\n",
        "s4=set(df4.columns)\n",
        "s5=set(df5.columns)\n",
        "\n",
        "# Extracting only the attributes common to all years\n",
        "\n",
        "u=set.intersection(s1,s2,s3,s4,s5)\n",
        "print(u)"
      ],
      "execution_count": null,
      "outputs": [
        {
          "output_type": "stream",
          "text": [
            "{'Health (Life Expectancy)', 'year', 'Happiness Rank', 'Generosity', 'Freedom', 'Happiness Score', 'Trust (Government Corruption)', 'Economy (GDP per Capita)', 'Country'}\n"
          ],
          "name": "stdout"
        }
      ]
    },
    {
      "cell_type": "code",
      "metadata": {
        "id": "4f8CEAXVFb41",
        "outputId": "731b8aea-cb1d-4dda-d153-9c0b50462242",
        "colab": {
          "base_uri": "https://localhost:8080/",
          "height": 454
        }
      },
      "source": [
        "u=list(u)\n",
        "combined=[df1,df2,df3,df4,df5]\n",
        "\n",
        "# Retaining only the common columns for each dataframe\n",
        "\n",
        "for i in combined:\n",
        "    i=i[u]\n",
        "\n",
        "for i in combined:\n",
        "    print(i.columns)"
      ],
      "execution_count": null,
      "outputs": [
        {
          "output_type": "stream",
          "text": [
            "Index(['Country', 'Region', 'Happiness Rank', 'Happiness Score',\n",
            "       'Standard Error', 'Economy (GDP per Capita)', 'Family',\n",
            "       'Health (Life Expectancy)', 'Freedom', 'Trust (Government Corruption)',\n",
            "       'Generosity', 'Dystopia Residual', 'year'],\n",
            "      dtype='object')\n",
            "Index(['Country', 'Region', 'Happiness Rank', 'Happiness Score',\n",
            "       'Lower Confidence Interval', 'Upper Confidence Interval',\n",
            "       'Economy (GDP per Capita)', 'Family', 'Health (Life Expectancy)',\n",
            "       'Freedom', 'Trust (Government Corruption)', 'Generosity',\n",
            "       'Dystopia Residual', 'year'],\n",
            "      dtype='object')\n",
            "Index(['Country', 'Happiness Rank', 'Happiness Score', 'Whisker.high',\n",
            "       'Whisker.low', 'Economy (GDP per Capita)', 'Family',\n",
            "       'Health (Life Expectancy)', 'Freedom', 'Generosity',\n",
            "       'Trust (Government Corruption)', 'Dystopia.Residual', 'year'],\n",
            "      dtype='object')\n",
            "Index(['Happiness Rank', 'Country', 'Happiness Score',\n",
            "       'Economy (GDP per Capita)', 'Social support',\n",
            "       'Health (Life Expectancy)', 'Freedom', 'Generosity',\n",
            "       'Trust (Government Corruption)', 'year'],\n",
            "      dtype='object')\n",
            "Index(['Happiness Rank', 'Country', 'Happiness Score',\n",
            "       'Economy (GDP per Capita)', 'Social support',\n",
            "       'Health (Life Expectancy)', 'Freedom', 'Generosity',\n",
            "       'Trust (Government Corruption)', 'year'],\n",
            "      dtype='object')\n"
          ],
          "name": "stdout"
        }
      ]
    },
    {
      "cell_type": "code",
      "metadata": {
        "id": "kBMy4iobFrcQ",
        "outputId": "3b9b6d08-8bd8-4603-da47-06455dd8a32a",
        "colab": {
          "base_uri": "https://localhost:8080/",
          "height": 353
        }
      },
      "source": [
        "# New dataframes, all with the same attributes\n",
        "\n",
        "df1_new=df1[u]\n",
        "df2_new=df2[u]\n",
        "df3_new=df3[u]\n",
        "df4_new=df4[u]\n",
        "df5_new=df5[u]\n",
        "\n",
        "print(df1_new.columns)\n",
        "print(df2_new.columns)\n",
        "print(df3_new.columns)\n",
        "print(df4_new.columns)\n",
        "print(df5_new.columns)"
      ],
      "execution_count": null,
      "outputs": [
        {
          "output_type": "stream",
          "text": [
            "Index(['Health (Life Expectancy)', 'year', 'Happiness Rank', 'Generosity',\n",
            "       'Freedom', 'Happiness Score', 'Trust (Government Corruption)',\n",
            "       'Economy (GDP per Capita)', 'Country'],\n",
            "      dtype='object')\n",
            "Index(['Health (Life Expectancy)', 'year', 'Happiness Rank', 'Generosity',\n",
            "       'Freedom', 'Happiness Score', 'Trust (Government Corruption)',\n",
            "       'Economy (GDP per Capita)', 'Country'],\n",
            "      dtype='object')\n",
            "Index(['Health (Life Expectancy)', 'year', 'Happiness Rank', 'Generosity',\n",
            "       'Freedom', 'Happiness Score', 'Trust (Government Corruption)',\n",
            "       'Economy (GDP per Capita)', 'Country'],\n",
            "      dtype='object')\n",
            "Index(['Health (Life Expectancy)', 'year', 'Happiness Rank', 'Generosity',\n",
            "       'Freedom', 'Happiness Score', 'Trust (Government Corruption)',\n",
            "       'Economy (GDP per Capita)', 'Country'],\n",
            "      dtype='object')\n",
            "Index(['Health (Life Expectancy)', 'year', 'Happiness Rank', 'Generosity',\n",
            "       'Freedom', 'Happiness Score', 'Trust (Government Corruption)',\n",
            "       'Economy (GDP per Capita)', 'Country'],\n",
            "      dtype='object')\n"
          ],
          "name": "stdout"
        }
      ]
    },
    {
      "cell_type": "code",
      "metadata": {
        "id": "FtEVlojBFux1",
        "outputId": "e3cd5f58-b489-4ea4-a48f-fc0d247aefab",
        "colab": {
          "base_uri": "https://localhost:8080/",
          "height": 252
        }
      },
      "source": [
        "# Combine into one dataframe\n",
        "\n",
        "df=pd.concat([df1_new,df2_new,df3_new,df4_new,df5_new])\n",
        "print(df)"
      ],
      "execution_count": null,
      "outputs": [
        {
          "output_type": "stream",
          "text": [
            "     Health (Life Expectancy)  ...                   Country\n",
            "0                     0.94143  ...               Switzerland\n",
            "1                     0.94784  ...                   Iceland\n",
            "2                     0.87464  ...                   Denmark\n",
            "3                     0.88521  ...                    Norway\n",
            "4                     0.90563  ...                    Canada\n",
            "..                        ...  ...                       ...\n",
            "151                   0.61400  ...                    Rwanda\n",
            "152                   0.49900  ...                  Tanzania\n",
            "153                   0.36100  ...               Afghanistan\n",
            "154                   0.10500  ...  Central African Republic\n",
            "155                   0.29500  ...               South Sudan\n",
            "\n",
            "[782 rows x 9 columns]\n"
          ],
          "name": "stdout"
        }
      ]
    },
    {
      "cell_type": "code",
      "metadata": {
        "id": "xwWtc2D_F0TJ"
      },
      "source": [
        "# Sorting data by country\n",
        "df=df.sort_values('Country')\n",
        "\n",
        "# creating new csv\n",
        "df.to_csv('data.csv') "
      ],
      "execution_count": null,
      "outputs": []
    }
  ]
}